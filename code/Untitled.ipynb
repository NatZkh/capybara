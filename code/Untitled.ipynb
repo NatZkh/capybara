{
 "cells": [
  {
   "cell_type": "code",
   "execution_count": 1,
   "id": "front-length",
   "metadata": {},
   "outputs": [
    {
     "data": {
      "text/plain": [
       "<module 'capybara' from '/programming/capybara/code/capybara.py'>"
      ]
     },
     "execution_count": 1,
     "metadata": {},
     "output_type": "execute_result"
    }
   ],
   "source": [
    "import importlib\n",
    "import capybara\n",
    "importlib.reload(capybara)\n"
   ]
  },
  {
   "cell_type": "code",
   "execution_count": 2,
   "id": "accepting-number",
   "metadata": {},
   "outputs": [
    {
     "data": {
      "text/plain": [
       "Capybara(Dora, 32)"
      ]
     },
     "execution_count": 2,
     "metadata": {},
     "output_type": "execute_result"
    }
   ],
   "source": [
    "capybara.capybara1"
   ]
  },
  {
   "cell_type": "code",
   "execution_count": 3,
   "id": "interracial-killing",
   "metadata": {},
   "outputs": [],
   "source": [
    "from capybara import *"
   ]
  },
  {
   "cell_type": "code",
   "execution_count": 4,
   "id": "concrete-bookmark",
   "metadata": {},
   "outputs": [
    {
     "data": {
      "text/plain": [
       "Capybara(Dora, 32)"
      ]
     },
     "execution_count": 4,
     "metadata": {},
     "output_type": "execute_result"
    }
   ],
   "source": [
    "capybara1"
   ]
  },
  {
   "cell_type": "code",
   "execution_count": 5,
   "id": "roman-korea",
   "metadata": {},
   "outputs": [
    {
     "data": {
      "text/plain": [
       "Capybara(Tim, 24)"
      ]
     },
     "execution_count": 5,
     "metadata": {},
     "output_type": "execute_result"
    }
   ],
   "source": [
    "capybara2"
   ]
  },
  {
   "cell_type": "code",
   "execution_count": 6,
   "id": "animal-merit",
   "metadata": {},
   "outputs": [],
   "source": [
    "class CapybaraDataset:\n",
    "    def __init__(self, path):\n",
    "        self.capybaras = read_capis(path)\n",
    "        \n",
    "    def write(self, path):\n",
    "        write_capybaras(path, self.capybaras)\n",
    "    \n",
    "    def read(self, path):\n",
    "        self.capybaras = read_capis(path)\n",
    "    \n",
    "    def __str__(self):\n",
    "        ret_val = \"Name,Age\\n\"\n",
    "        for c in self.capybaras:\n",
    "            ret_val += (c.as_row() + \"\\n\")\n",
    "        return ret_val\n",
    "    \n",
    "    __repr__ = __str__"
   ]
  },
  {
   "cell_type": "code",
   "execution_count": 7,
   "id": "utility-thomas",
   "metadata": {},
   "outputs": [],
   "source": [
    "ds = CapybaraDataset(\"../capys.csv\")\n",
    "#ds.write(\"new-capis.csv\")\n",
    "#ds.read(\"othercapis.csv\")"
   ]
  },
  {
   "cell_type": "code",
   "execution_count": 8,
   "id": "comfortable-paint",
   "metadata": {},
   "outputs": [
    {
     "name": "stdout",
     "output_type": "stream",
     "text": [
      "Name,Age\n",
      "Dora,32\n",
      "Tim,24\n",
      "Lulu,27\n",
      "Nancy,37\n",
      "Tod,30\n",
      "Paddy,20\n",
      "Freddie,10\n",
      "Vincent,16\n",
      "Ovidiu,70\n",
      "ShitCommit,20\n",
      "TwoMore,43\n",
      "SoSmart,19\n",
      "\n"
     ]
    }
   ],
   "source": [
    "print(ds)"
   ]
  }
 ],
 "metadata": {
  "kernelspec": {
   "display_name": "Python 3",
   "language": "python",
   "name": "python3"
  },
  "language_info": {
   "codemirror_mode": {
    "name": "ipython",
    "version": 3
   },
   "file_extension": ".py",
   "mimetype": "text/x-python",
   "name": "python",
   "nbconvert_exporter": "python",
   "pygments_lexer": "ipython3",
   "version": "3.8.5"
  }
 },
 "nbformat": 4,
 "nbformat_minor": 5
}
