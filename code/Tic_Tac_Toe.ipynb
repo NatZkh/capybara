{
 "cells": [
  {
   "cell_type": "code",
   "execution_count": 1,
   "id": "static-bicycle",
   "metadata": {},
   "outputs": [],
   "source": [
    "#user input part -> converts a string into game command object\n",
    "#business logic -> takes command object and applies to current state of a game. Result is either new valid game state or an error\n"
   ]
  },
  {
   "cell_type": "code",
   "execution_count": null,
   "id": "civic-there",
   "metadata": {},
   "outputs": [],
   "source": [
    "#class for GameState and GameCommand\n",
    "#user input validation \n",
    "# command to turn the user inout into game command and apply it to current status. This results into new status or error\n",
    "#gme finished logic\n",
    "#link them all together -> while game is not finished call them in the right order"
   ]
  },
  {
   "cell_type": "code",
   "execution_count": null,
   "id": "forward-kingdom",
   "metadata": {},
   "outputs": [],
   "source": []
  },
  {
   "cell_type": "code",
   "execution_count": 8,
   "id": "chinese-courage",
   "metadata": {},
   "outputs": [
    {
     "name": "stdout",
     "output_type": "stream",
     "text": [
      " | | \n",
      "—+—+—\n",
      " | | \n",
      "—+—+—\n",
      " | | \n"
     ]
    }
   ],
   "source": [
    "print (\" \" + \"|\" + \" \" + \"|\" + \" \\n\" \n",
    "       + \"—+—+—\\n\" \n",
    "       + \" \" + \"|\" + \" \" + \"|\" + \" \\n\" \n",
    "       + \"—+—+—\\n\" \n",
    "       + \" \" + \"|\" + \" \" + \"|\" + \" \") "
   ]
  },
  {
   "cell_type": "code",
   "execution_count": 19,
   "id": "public-representative",
   "metadata": {},
   "outputs": [],
   "source": [
    "game_state = [\n",
    "    [\" \", \" \", \" \"],\n",
    "    [\" \", \" \", \" \"],\n",
    "    [\" \", \" \", \" \"]\n",
    "]"
   ]
  },
  {
   "cell_type": "code",
   "execution_count": 20,
   "id": "prime-tulsa",
   "metadata": {},
   "outputs": [],
   "source": [
    "def print_game_state(game_state):\n",
    "    print (game_state[0][0] + \"|\" + game_state[0][1] + \"|\" + game_state[0][2] +\"\\n\" \n",
    "       + \"—+—+—\\n\" \n",
    "       + game_state[1][0] + \"|\" + game_state[1][1] + \"|\" + game_state[1][2] + \"\\n\" \n",
    "       + \"—+—+—\\n\" \n",
    "       + game_state[2][0] + \"|\" + game_state[2][1] + \"|\" + game_state[2][2])"
   ]
  },
  {
   "cell_type": "code",
   "execution_count": 21,
   "id": "structured-conversion",
   "metadata": {},
   "outputs": [
    {
     "name": "stdout",
     "output_type": "stream",
     "text": [
      " | | \n",
      "—+—+—\n",
      " | | \n",
      "—+—+—\n",
      " | | \n"
     ]
    }
   ],
   "source": [
    "print_game_state(game_state)"
   ]
  }
 ],
 "metadata": {
  "kernelspec": {
   "display_name": "Python 3",
   "language": "python",
   "name": "python3"
  },
  "language_info": {
   "codemirror_mode": {
    "name": "ipython",
    "version": 3
   },
   "file_extension": ".py",
   "mimetype": "text/x-python",
   "name": "python",
   "nbconvert_exporter": "python",
   "pygments_lexer": "ipython3",
   "version": "3.8.5"
  }
 },
 "nbformat": 4,
 "nbformat_minor": 5
}
