{
 "cells": [
  {
   "cell_type": "code",
   "execution_count": 1,
   "id": "convinced-electron",
   "metadata": {},
   "outputs": [],
   "source": [
    "#user input part -> converts a string into game command object\n",
    "#business logic -> takes command object and applies to current state of a game. Result is either new valid game state or an error\n"
   ]
  },
  {
   "cell_type": "code",
   "execution_count": null,
   "id": "educational-marker",
   "metadata": {},
   "outputs": [],
   "source": [
    "#class for GameState and GameCommand\n",
    "#user input validation \n",
    "# command to turn the user inout into game command and apply it to current status. This results into new status or error\n",
    "#gme finished logic\n",
    "#link them all together -> while game is not finished call them in the right order"
   ]
  },
  {
   "cell_type": "code",
   "execution_count": null,
   "id": "hungry-scratch",
   "metadata": {},
   "outputs": [],
   "source": []
  },
  {
   "cell_type": "code",
   "execution_count": 8,
   "id": "proprietary-immigration",
   "metadata": {},
   "outputs": [
    {
     "name": "stdout",
     "output_type": "stream",
     "text": [
      " | | \n",
      "—+—+—\n",
      " | | \n",
      "—+—+—\n",
      " | | \n"
     ]
    }
   ],
   "source": [
    "print (\" \" + \"|\" + \" \" + \"|\" + \" \\n\" \n",
    "       + \"—+—+—\\n\" \n",
    "       + \" \" + \"|\" + \" \" + \"|\" + \" \\n\" \n",
    "       + \"—+—+—\\n\" \n",
    "       + \" \" + \"|\" + \" \" + \"|\" + \" \") "
   ]
  },
  {
   "cell_type": "code",
   "execution_count": 19,
   "id": "suspended-carrier",
   "metadata": {},
   "outputs": [],
   "source": [
    "game_state = [\n",
    "    [\" \", \" \", \" \"],\n",
    "    [\" \", \" \", \" \"],\n",
    "    [\" \", \" \", \" \"]\n",
    "]"
   ]
  },
  {
   "cell_type": "code",
   "execution_count": 20,
   "id": "clear-radar",
   "metadata": {},
   "outputs": [],
   "source": [
    "def print_game_state(game_state):\n",
    "    print (game_state[0][0] + \"|\" + game_state[0][1] + \"|\" + game_state[0][2] +\"\\n\" \n",
    "       + \"—+—+—\\n\" \n",
    "       + game_state[1][0] + \"|\" + game_state[1][1] + \"|\" + game_state[1][2] + \"\\n\" \n",
    "       + \"—+—+—\\n\" \n",
    "       + game_state[2][0] + \"|\" + game_state[2][1] + \"|\" + game_state[2][2])"
   ]
  },
  {
   "cell_type": "code",
   "execution_count": 21,
   "id": "exposed-louis",
   "metadata": {},
   "outputs": [
    {
     "name": "stdout",
     "output_type": "stream",
     "text": [
      " | | \n",
      "—+—+—\n",
      " | | \n",
      "—+—+—\n",
      " | | \n"
     ]
    }
   ],
   "source": [
    "print_game_state(game_state)"
   ]
  },
  {
   "cell_type": "code",
   "execution_count": 57,
   "id": "satellite-annex",
   "metadata": {},
   "outputs": [],
   "source": [
    "def player1_input():\n",
    "    row = int(input (\"Player 1, please input row number: \"))\n",
    "    col = int(input (\"Player 1, please inout column number: \"))\n",
    "    p1_input = (\"x\", row, col)\n",
    "    return p1_input\n",
    "    "
   ]
  },
  {
   "cell_type": "code",
   "execution_count": 33,
   "id": "hispanic-bunch",
   "metadata": {},
   "outputs": [
    {
     "name": "stdout",
     "output_type": "stream",
     "text": [
      "Player 1, please input row number: 0\n",
      "Player 1, please inout column number: 2\n"
     ]
    },
    {
     "data": {
      "text/plain": [
       "('0', '2')"
      ]
     },
     "execution_count": 33,
     "metadata": {},
     "output_type": "execute_result"
    }
   ],
   "source": [
    "player1_input()"
   ]
  },
  {
   "cell_type": "code",
   "execution_count": 34,
   "id": "corresponding-bench",
   "metadata": {},
   "outputs": [
    {
     "name": "stdout",
     "output_type": "stream",
     "text": [
      "Player 1, please input row number: 2\n",
      "Player 1, please inout column number: 1\n"
     ]
    },
    {
     "data": {
      "text/plain": [
       "('2', '1')"
      ]
     },
     "execution_count": 34,
     "metadata": {},
     "output_type": "execute_result"
    }
   ],
   "source": [
    "player1_input()"
   ]
  },
  {
   "cell_type": "code",
   "execution_count": 58,
   "id": "respective-spread",
   "metadata": {},
   "outputs": [],
   "source": [
    "def player2_input():\n",
    "    row = int (input (\"Player 2, please input row number: \"))\n",
    "    col = int (input (\"Player 2, please inout column number: \"))\n",
    "    p2_input = (\"o\", row, col)\n",
    "    return p2_input"
   ]
  },
  {
   "cell_type": "code",
   "execution_count": 36,
   "id": "public-sponsorship",
   "metadata": {},
   "outputs": [
    {
     "name": "stdout",
     "output_type": "stream",
     "text": [
      "Player 2, please input row number: 2\n",
      "Player 2, please inout column number: 1\n"
     ]
    },
    {
     "data": {
      "text/plain": [
       "('2', '1')"
      ]
     },
     "execution_count": 36,
     "metadata": {},
     "output_type": "execute_result"
    }
   ],
   "source": [
    "player2_input()"
   ]
  },
  {
   "cell_type": "code",
   "execution_count": 50,
   "id": "exciting-native",
   "metadata": {},
   "outputs": [],
   "source": [
    "def update_game_status(game_state, game_command):\n",
    "    game_state[game_command[1]][game_command[2]] = game_command[0]\n",
    "    return game_state"
   ]
  },
  {
   "cell_type": "code",
   "execution_count": 51,
   "id": "powerful-immune",
   "metadata": {},
   "outputs": [
    {
     "data": {
      "text/plain": [
       "[[' ', 'x', ' '], [' ', ' ', ' '], [' ', ' ', ' ']]"
      ]
     },
     "execution_count": 51,
     "metadata": {},
     "output_type": "execute_result"
    }
   ],
   "source": [
    "update_game_status(game_state, ('x', 0, 1))"
   ]
  },
  {
   "cell_type": "code",
   "execution_count": 52,
   "id": "detailed-joint",
   "metadata": {},
   "outputs": [
    {
     "data": {
      "text/plain": [
       "[[' ', 'x', 'x'], [' ', ' ', ' '], [' ', ' ', ' ']]"
      ]
     },
     "execution_count": 52,
     "metadata": {},
     "output_type": "execute_result"
    }
   ],
   "source": [
    "update_game_status(game_state, ('x', 0, 2))"
   ]
  },
  {
   "cell_type": "code",
   "execution_count": 54,
   "id": "induced-tribute",
   "metadata": {},
   "outputs": [
    {
     "data": {
      "text/plain": [
       "[[' ', '0', 'x'], [' ', '0', ' '], [' ', ' ', ' ']]"
      ]
     },
     "execution_count": 54,
     "metadata": {},
     "output_type": "execute_result"
    }
   ],
   "source": [
    "update_game_status(game_state, ('0', 1, 1))"
   ]
  }
 ],
 "metadata": {
  "kernelspec": {
   "display_name": "Python 3",
   "language": "python",
   "name": "python3"
  },
  "language_info": {
   "codemirror_mode": {
    "name": "ipython",
    "version": 3
   },
   "file_extension": ".py",
   "mimetype": "text/x-python",
   "name": "python",
   "nbconvert_exporter": "python",
   "pygments_lexer": "ipython3",
   "version": "3.8.5"
  }
 },
 "nbformat": 4,
 "nbformat_minor": 5
}
