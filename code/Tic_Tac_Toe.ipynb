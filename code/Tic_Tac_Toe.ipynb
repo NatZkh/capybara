{
 "cells": [
  {
   "cell_type": "code",
   "execution_count": 1,
   "id": "convinced-electron",
   "metadata": {},
   "outputs": [],
   "source": [
    "#user input part -> converts a string into game command object\n",
    "#business logic -> takes command object and applies to current state of a game. Result is either new valid game state or an error\n"
   ]
  },
  {
   "cell_type": "code",
   "execution_count": 2,
   "id": "educational-marker",
   "metadata": {},
   "outputs": [],
   "source": [
    "#class for GameState and GameCommand\n",
    "#user input validation \n",
    "# command to turn the user inout into game command and apply it to current status. This results into new status or error\n",
    "#gme finished logic\n",
    "#link them all together -> while game is not finished call them in the right order"
   ]
  },
  {
   "cell_type": "code",
   "execution_count": null,
   "id": "hungry-scratch",
   "metadata": {},
   "outputs": [],
   "source": []
  },
  {
   "cell_type": "code",
   "execution_count": 3,
   "id": "proprietary-immigration",
   "metadata": {},
   "outputs": [
    {
     "name": "stdout",
     "output_type": "stream",
     "text": [
      " | | \n",
      "—+—+—\n",
      " | | \n",
      "—+—+—\n",
      " | | \n"
     ]
    }
   ],
   "source": [
    "print (\" \" + \"|\" + \" \" + \"|\" + \" \\n\" \n",
    "       + \"—+—+—\\n\" \n",
    "       + \" \" + \"|\" + \" \" + \"|\" + \" \\n\" \n",
    "       + \"—+—+—\\n\" \n",
    "       + \" \" + \"|\" + \" \" + \"|\" + \" \") "
   ]
  },
  {
   "cell_type": "code",
   "execution_count": 4,
   "id": "suspended-carrier",
   "metadata": {},
   "outputs": [],
   "source": [
    "game_state = [\n",
    "    [\" \", \" \", \" \"],\n",
    "    [\" \", \" \", \" \"],\n",
    "    [\" \", \" \", \" \"]\n",
    "]"
   ]
  },
  {
   "cell_type": "code",
   "execution_count": 5,
   "id": "clear-radar",
   "metadata": {},
   "outputs": [],
   "source": [
    "def print_game_state(game_state):\n",
    "    print (game_state[0][0] + \"|\" + game_state[0][1] + \"|\" + game_state[0][2] +\"\\n\" \n",
    "       + \"—+—+—\\n\" \n",
    "       + game_state[1][0] + \"|\" + game_state[1][1] + \"|\" + game_state[1][2] + \"\\n\" \n",
    "       + \"—+—+—\\n\" \n",
    "       + game_state[2][0] + \"|\" + game_state[2][1] + \"|\" + game_state[2][2])"
   ]
  },
  {
   "cell_type": "code",
   "execution_count": 6,
   "id": "exposed-louis",
   "metadata": {},
   "outputs": [
    {
     "name": "stdout",
     "output_type": "stream",
     "text": [
      " | | \n",
      "—+—+—\n",
      " | | \n",
      "—+—+—\n",
      " | | \n"
     ]
    }
   ],
   "source": [
    "print_game_state(game_state)"
   ]
  },
  {
   "cell_type": "code",
   "execution_count": 7,
   "id": "satellite-annex",
   "metadata": {},
   "outputs": [],
   "source": [
    "def player1_input():\n",
    "    row = int(input (\"Player 1, please input row number: \"))\n",
    "    col = int(input (\"Player 1, please inout column number: \"))\n",
    "    p1_input = (\"x\", row, col)\n",
    "    return p1_input\n",
    "    "
   ]
  },
  {
   "cell_type": "markdown",
   "id": "initial-intermediate",
   "metadata": {},
   "source": [
    "# player1_input()"
   ]
  },
  {
   "cell_type": "code",
   "execution_count": 8,
   "id": "corresponding-bench",
   "metadata": {},
   "outputs": [
    {
     "name": "stdout",
     "output_type": "stream",
     "text": [
      "Player 1, please input row number: 1\n",
      "Player 1, please inout column number: 1\n"
     ]
    },
    {
     "data": {
      "text/plain": [
       "('x', 1, 1)"
      ]
     },
     "execution_count": 8,
     "metadata": {},
     "output_type": "execute_result"
    }
   ],
   "source": [
    "player1_input()"
   ]
  },
  {
   "cell_type": "code",
   "execution_count": 9,
   "id": "respective-spread",
   "metadata": {},
   "outputs": [],
   "source": [
    "def player2_input():\n",
    "    row = int (input (\"Player 2, please input row number: \"))\n",
    "    col = int (input (\"Player 2, please inout column number: \"))\n",
    "    p2_input = (\"o\", row, col)\n",
    "    return p2_input"
   ]
  },
  {
   "cell_type": "code",
   "execution_count": 10,
   "id": "public-sponsorship",
   "metadata": {},
   "outputs": [
    {
     "name": "stdout",
     "output_type": "stream",
     "text": [
      "Player 2, please input row number: 1\n",
      "Player 2, please inout column number: 1\n"
     ]
    },
    {
     "data": {
      "text/plain": [
       "('o', 1, 1)"
      ]
     },
     "execution_count": 10,
     "metadata": {},
     "output_type": "execute_result"
    }
   ],
   "source": [
    "player2_input()"
   ]
  },
  {
   "cell_type": "code",
   "execution_count": 11,
   "id": "exciting-native",
   "metadata": {},
   "outputs": [],
   "source": [
    "def update_game_status(game_state, game_command):\n",
    "    game_state[game_command[1]][game_command[2]] = game_command[0]\n",
    "    return game_state"
   ]
  },
  {
   "cell_type": "code",
   "execution_count": 12,
   "id": "powerful-immune",
   "metadata": {},
   "outputs": [
    {
     "data": {
      "text/plain": [
       "[[' ', 'x', ' '], [' ', ' ', ' '], [' ', ' ', ' ']]"
      ]
     },
     "execution_count": 12,
     "metadata": {},
     "output_type": "execute_result"
    }
   ],
   "source": [
    "update_game_status(game_state, ('x', 0, 1))"
   ]
  },
  {
   "cell_type": "code",
   "execution_count": 13,
   "id": "detailed-joint",
   "metadata": {},
   "outputs": [
    {
     "data": {
      "text/plain": [
       "[[' ', 'x', 'x'], [' ', ' ', ' '], [' ', ' ', ' ']]"
      ]
     },
     "execution_count": 13,
     "metadata": {},
     "output_type": "execute_result"
    }
   ],
   "source": [
    "update_game_status(game_state, ('x', 0, 2))"
   ]
  },
  {
   "cell_type": "code",
   "execution_count": 14,
   "id": "induced-tribute",
   "metadata": {
    "scrolled": true
   },
   "outputs": [
    {
     "data": {
      "text/plain": [
       "[[' ', 'x', 'x'], [' ', '0', ' '], [' ', ' ', ' ']]"
      ]
     },
     "execution_count": 14,
     "metadata": {},
     "output_type": "execute_result"
    }
   ],
   "source": [
    "update_game_status(game_state, ('0', 1, 1))"
   ]
  },
  {
   "cell_type": "code",
   "execution_count": 15,
   "id": "moving-pressing",
   "metadata": {},
   "outputs": [],
   "source": [
    "#function taking input from user and generates GameMove (row,col,player)"
   ]
  },
  {
   "cell_type": "code",
   "execution_count": 16,
   "id": "distributed-still",
   "metadata": {},
   "outputs": [],
   "source": [
    "def get_move ():\n",
    "    game_move = ()"
   ]
  },
  {
   "cell_type": "code",
   "execution_count": 17,
   "id": "digital-average",
   "metadata": {},
   "outputs": [],
   "source": [
    "class GameState:\n",
    "    def __init__ (self):\n",
    "        self.board = [\n",
    "            [\" \", \" \", \" \"],\n",
    "            [\" \", \" \", \" \"],\n",
    "            [\" \", \" \", \" \"]\n",
    "            ]\n",
    "        self.current_player = \"x\"\n",
    "        \n",
    "    def print_game_state(self):\n",
    "        print (self.board[0][0] + \"|\" + self.board[0][1] + \"|\" + self.board[0][2] +\"\\n\" \n",
    "            + \"—+—+—\\n\" \n",
    "            + self.board[1][0] + \"|\" + self.board[1][1] + \"|\" + self.board[1][2] + \"\\n\" \n",
    "            + \"—+—+—\\n\" \n",
    "            + self.board[2][0] + \"|\" + self.board[2][1] + \"|\" + self.board[2][2])\n",
    "        \n",
    "    def apply_move(self, move):\n",
    "        if self.board[move[0]][move[1]] == \" \":\n",
    "            self.board[move[0]][move[1]] = self.current_player\n",
    "            if self.current_player == \"x\":\n",
    "                self.current_player = \"o\"\n",
    "            else:\n",
    "                self.current_player = \"x\"\n",
    "            return True\n",
    "        else:\n",
    "            return False \n",
    "    \n",
    "    def get_game_status(self):\n",
    "        if self.is_winner(\"x\"):\n",
    "            return \"Congrats, player X wins!\"\n",
    "        elif self.is_winner(\"o\"):\n",
    "            return \"Congrats, player O wins!\"\n",
    "        elif self.board_full():\n",
    "            return \"It's a draw!\"\n",
    "        else:\n",
    "            return \"ongoing\"\n",
    "    \n",
    "    def is_winner(self, player):\n",
    "        if self.board[0][0] == player and self.board[0][1] == player and self.board[0][2] == player:\n",
    "            return True\n",
    "        elif self.board[1][0] == player and self.board[1][1] == player and self.board[1][2] == player:\n",
    "            return True\n",
    "        elif self.board[2][0] == player and self.board[2][1] == player and self.board[2][2] == player:\n",
    "            return True\n",
    "        elif self.board[0][0] == player and self.board[1][0] == player and self.board[2][0] == player:\n",
    "            return True\n",
    "        elif self.board[0][1] == player and self.board[1][1] == player and self.board[2][1] == player:\n",
    "            return True\n",
    "        elif self.board[0][2] == player and self.board[1][2] == player and self.board[2][2] == player:\n",
    "            return True\n",
    "        elif self.board[0][0] == player and self.board[1][1] == player and self.board[2][2] == player:\n",
    "            return True\n",
    "        elif self.board[0][2] == player and self.board[1][1] == player and self.board[2][0] == player:\n",
    "            return True\n",
    "        else:\n",
    "            return False\n",
    "    \n",
    "    def board_full(self):\n",
    "        for row in self.board: \n",
    "            for cell in row:\n",
    "                if cell == \" \":\n",
    "                    return False\n",
    "        return True"
   ]
  },
  {
   "cell_type": "code",
   "execution_count": 18,
   "id": "mature-frost",
   "metadata": {},
   "outputs": [
    {
     "name": "stdout",
     "output_type": "stream",
     "text": [
      " | | \n",
      "—+—+—\n",
      " | | \n",
      "—+—+—\n",
      " | | \n"
     ]
    }
   ],
   "source": [
    "game = GameState ()\n",
    "game.print_game_state()"
   ]
  },
  {
   "cell_type": "code",
   "execution_count": 19,
   "id": "impossible-drink",
   "metadata": {},
   "outputs": [
    {
     "data": {
      "text/plain": [
       "True"
      ]
     },
     "execution_count": 19,
     "metadata": {},
     "output_type": "execute_result"
    }
   ],
   "source": [
    "game.apply_move ([0,1])"
   ]
  },
  {
   "cell_type": "code",
   "execution_count": 20,
   "id": "correct-karen",
   "metadata": {},
   "outputs": [
    {
     "name": "stdout",
     "output_type": "stream",
     "text": [
      " |x| \n",
      "—+—+—\n",
      " | | \n",
      "—+—+—\n",
      " | | \n"
     ]
    }
   ],
   "source": [
    "game.print_game_state ()"
   ]
  },
  {
   "cell_type": "code",
   "execution_count": 21,
   "id": "perceived-classic",
   "metadata": {},
   "outputs": [
    {
     "name": "stdout",
     "output_type": "stream",
     "text": [
      " |x| \n",
      "—+—+—\n",
      " |o| \n",
      "—+—+—\n",
      " | | \n"
     ]
    }
   ],
   "source": [
    "game.apply_move([1,1])\n",
    "game.print_game_state()"
   ]
  },
  {
   "cell_type": "code",
   "execution_count": 22,
   "id": "sensitive-psychiatry",
   "metadata": {},
   "outputs": [
    {
     "name": "stdout",
     "output_type": "stream",
     "text": [
      " |x| \n",
      "—+—+—\n",
      " |o| \n",
      "—+—+—\n",
      " | |x\n"
     ]
    }
   ],
   "source": [
    "game.apply_move([2,2])\n",
    "game.print_game_state()"
   ]
  },
  {
   "cell_type": "code",
   "execution_count": 23,
   "id": "civil-mercury",
   "metadata": {},
   "outputs": [
    {
     "name": "stdout",
     "output_type": "stream",
     "text": [
      " |x| \n",
      "—+—+—\n",
      " |o| \n",
      "—+—+—\n",
      " | |x\n"
     ]
    }
   ],
   "source": [
    "game.apply_move([1,1])\n",
    "game.print_game_state()"
   ]
  },
  {
   "cell_type": "code",
   "execution_count": 24,
   "id": "stainless-selection",
   "metadata": {},
   "outputs": [],
   "source": [
    "def get_player_move(game_state):\n",
    "    row = int(input(\"Player \" + game_state.current_player + \", please chose row number:\"))\n",
    "    col = int (input(\"Player \" + game_state.current_player + \", please chose column number:\"))\n",
    "    move = (row,col)\n",
    "    return move"
   ]
  },
  {
   "cell_type": "code",
   "execution_count": 25,
   "id": "incident-texture",
   "metadata": {},
   "outputs": [
    {
     "name": "stdout",
     "output_type": "stream",
     "text": [
      "Player o, please chose row number:1\n",
      "Player o, please chose column number:1\n",
      " |x| \n",
      "—+—+—\n",
      " |o| \n",
      "—+—+—\n",
      " | |x\n"
     ]
    }
   ],
   "source": [
    "game.apply_move(get_player_move(game))\n",
    "game.print_game_state()"
   ]
  },
  {
   "cell_type": "code",
   "execution_count": 26,
   "id": "variable-therapist",
   "metadata": {},
   "outputs": [],
   "source": [
    "#create game and print empty field\n",
    "#ask player to make the move\n",
    "#apply the move\n",
    "#while apply the move is false, print message and ask user for new input\n",
    "#else, print updated game state\n",
    "#check if game has a winner\n",
    "#if yes, print winner or draw\n",
    "#else ask player to make the move - loop"
   ]
  },
  {
   "cell_type": "code",
   "execution_count": 30,
   "id": "distant-return",
   "metadata": {},
   "outputs": [
    {
     "name": "stdout",
     "output_type": "stream",
     "text": [
      " | | \n",
      "—+—+—\n",
      " | | \n",
      "—+—+—\n",
      " | | \n",
      "Player x, please chose row number:1\n",
      "Player x, please chose column number:1\n",
      " | | \n",
      "—+—+—\n",
      " |x| \n",
      "—+—+—\n",
      " | | \n",
      "Player o, please chose row number:0\n",
      "Player o, please chose column number:1\n",
      " |o| \n",
      "—+—+—\n",
      " |x| \n",
      "—+—+—\n",
      " | | \n",
      "Player x, please chose row number:0\n",
      "Player x, please chose column number:0\n",
      "x|o| \n",
      "—+—+—\n",
      " |x| \n",
      "—+—+—\n",
      " | | \n",
      "Player o, please chose row number:2\n",
      "Player o, please chose column number:2\n",
      "x|o| \n",
      "—+—+—\n",
      " |x| \n",
      "—+—+—\n",
      " | |o\n",
      "Player x, please chose row number:1\n",
      "Player x, please chose column number:0\n",
      "x|o| \n",
      "—+—+—\n",
      "x|x| \n",
      "—+—+—\n",
      " | |o\n",
      "Player o, please chose row number:2\n",
      "Player o, please chose column number:0\n",
      "x|o| \n",
      "—+—+—\n",
      "x|x| \n",
      "—+—+—\n",
      "o| |o\n",
      "Player x, please chose row number:0\n",
      "Player x, please chose column number:2\n",
      "x|o|x\n",
      "—+—+—\n",
      "x|x| \n",
      "—+—+—\n",
      "o| |o\n",
      "Player o, please chose row number:1\n",
      "Player o, please chose column number:2\n",
      "x|o|x\n",
      "—+—+—\n",
      "x|x|o\n",
      "—+—+—\n",
      "o| |o\n",
      "Player x, please chose row number:2\n",
      "Player x, please chose column number:1\n",
      "x|o|x\n",
      "—+—+—\n",
      "x|x|o\n",
      "—+—+—\n",
      "o|x|o\n",
      "It's a draw!\n"
     ]
    }
   ],
   "source": [
    "game = GameState()\n",
    "game.print_game_state()\n",
    "move = get_player_move(game)\n",
    "while game.apply_move(move) is False:\n",
    "    print (\"This cell is already taken. Try again\")\n",
    "    move = get_player_move(game)\n",
    "game.print_game_state()\n",
    "while game.get_game_status() == \"ongoing\":\n",
    "    move = get_player_move(game)\n",
    "    while game.apply_move(move) is False:\n",
    "        print (\"This cell is already taken. Try again\")\n",
    "        move = get_player_move(game)\n",
    "    game.print_game_state()\n",
    "print (game.get_game_status())\n",
    "    \n",
    "    \n"
   ]
  }
 ],
 "metadata": {
  "kernelspec": {
   "display_name": "Python 3",
   "language": "python",
   "name": "python3"
  },
  "language_info": {
   "codemirror_mode": {
    "name": "ipython",
    "version": 3
   },
   "file_extension": ".py",
   "mimetype": "text/x-python",
   "name": "python",
   "nbconvert_exporter": "python",
   "pygments_lexer": "ipython3",
   "version": "3.8.5"
  }
 },
 "nbformat": 4,
 "nbformat_minor": 5
}
